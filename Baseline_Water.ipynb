{
 "cells": [
  {
   "cell_type": "code",
   "execution_count": null,
   "id": "711183ea-9426-4876-9383-9727516becff",
   "metadata": {
    "tags": []
   },
   "outputs": [],
   "source": [
    "# 필요 시 주석을 해제하고 아래 라이브러리들을 설치\n",
    "# !pip install pystan==2.19.1.1\n",
    "# !pip3 install fbprophet\n",
    "# !pip install plotly"
   ]
  },
  {
   "cell_type": "code",
   "execution_count": null,
   "id": "f230edb4-626f-4bd2-992e-4178e221e797",
   "metadata": {},
   "outputs": [],
   "source": [
    "# 라이브러리 임포트\n",
    "import os\n",
    "import time\n",
    "import json\n",
    "import datetime\n",
    "import numpy as np\n",
    "import pandas as pd\n",
    "from fbprophet import Prophet"
   ]
  },
  {
   "cell_type": "code",
   "execution_count": null,
   "id": "1c98e6f8-d84f-412c-9d2b-4e4ddef38540",
   "metadata": {
    "tags": []
   },
   "outputs": [],
   "source": [
    "# 데이터 로드\n",
    "train = json.load(open('##### train.json 경로#####', 'r', encoding='utf8')) \n",
    "submit = json.load(open('##### sample_submission.json 경로 #####', 'r', encoding='utf8')) "
   ]
  },
  {
   "cell_type": "code",
   "execution_count": null,
   "id": "6b6ea4b8-99ef-4cce-9736-ca96cfbb1fab",
   "metadata": {
    "tags": []
   },
   "outputs": [],
   "source": [
    "# 사업장별 dataframe 제작\n",
    "df_dic = {}\n",
    "plc_lst = list(train.keys())\n",
    "fct_lst = ['pH', 'COD', 'SS', 'N', 'P', 'T']\n",
    "\n",
    "for i in plc_lst:\n",
    "    plc_df = pd.DataFrame(columns={'ds', 'pH', 'COD', 'SS', 'N', 'P', 'T'})\n",
    "    plc_df = plc_df[['ds', 'pH', 'COD', 'SS', 'N', 'P', 'T']]\n",
    "    \n",
    "    date_lst = list(train[i].keys())\n",
    "    plc_df.loc[:, 'ds'] = date_lst\n",
    "\n",
    "    for index, j in enumerate(date_lst):\n",
    "        for k in fct_lst:\n",
    "            try:\n",
    "                plc_df.loc[index, k] = train[i][j][k]\n",
    "            except:\n",
    "                pass\n",
    "                    \n",
    "    df_dic[i] = plc_df"
   ]
  },
  {
   "cell_type": "code",
   "execution_count": null,
   "id": "d394cd26-fbac-4de8-b891-ba1b25b4d701",
   "metadata": {},
   "outputs": [],
   "source": [
    "plc_lst[:5]"
   ]
  },
  {
   "cell_type": "code",
   "execution_count": null,
   "id": "56dd1161-a4a2-47c9-9320-8a2c527563f7",
   "metadata": {
    "tags": []
   },
   "outputs": [],
   "source": [
    "df_dic[plc_lst[0]]"
   ]
  },
  {
   "cell_type": "code",
   "execution_count": null,
   "id": "14bde78e-4ec5-4077-a512-27b9ce8d3e1a",
   "metadata": {
    "tags": []
   },
   "outputs": [],
   "source": [
    "# Prophet 예측을 위한 dataframe 포맷 제작\n",
    "future = pd.DataFrame([str(x)[:10] for x in list(pd.date_range(start='2018-02-01', end='2019-12-31', inclusive=\"both\"))], columns=['ds'])\n",
    "future['y'] = np.nan\n",
    "future"
   ]
  },
  {
   "cell_type": "code",
   "execution_count": null,
   "id": "b9b5e96a-085f-421e-a076-0e2b2fa0724f",
   "metadata": {
    "tags": []
   },
   "outputs": [],
   "source": [
    "# 추론\n",
    "start_time = time.time()\n",
    "\n",
    "for i in plc_lst:\n",
    "    plc_df = df_dic[i]\n",
    "    \n",
    "    for j in fct_lst:\n",
    "        fct_df = plc_df[['ds', j]]\n",
    "        fct_df = fct_df.rename(columns={j:'y'})\n",
    "        model = Prophet()\n",
    "        model.fit(fct_df)\n",
    "        forecast = model.predict(future)\n",
    "        forecast['ds'] = forecast['ds'].apply(lambda x : str(x).split(' ')[0].split('-')[0]+str(x).split(' ')[0].split('-')[1]+str(x).split(' ')[0].split('-')[2])\n",
    "        forecast = forecast[['ds', 'yhat']]\n",
    "        \n",
    "        for index, k in enumerate(list(forecast['ds'])):\n",
    "            submit[i][forecast.loc[index, 'ds']][j] = np.float(forecast[forecast['ds']==k]['yhat'])\n",
    "        \n",
    "end_time = time.time()\n",
    "print('소요시간 :', (end_time - start_time)/60, 'minutes')"
   ]
  },
  {
   "cell_type": "code",
   "execution_count": null,
   "id": "1eb64b85-60ba-4308-970a-56f70fe666fd",
   "metadata": {},
   "outputs": [],
   "source": [
    "# 추론 파일 저장\n",
    "with open('##### prediction.json 경로 #####', 'w', encoding='utf8') as f:\n",
    "    json.dump(submit, f, ensure_ascii=False)"
   ]
  }
 ],
 "metadata": {
  "kernelspec": {
   "display_name": "Python 3 (ipykernel)",
   "language": "python",
   "name": "python3"
  },
  "language_info": {
   "codemirror_mode": {
    "name": "ipython",
    "version": 3
   },
   "file_extension": ".py",
   "mimetype": "text/x-python",
   "name": "python",
   "nbconvert_exporter": "python",
   "pygments_lexer": "ipython3",
   "version": "3.7.7"
  }
 },
 "nbformat": 4,
 "nbformat_minor": 5
}
